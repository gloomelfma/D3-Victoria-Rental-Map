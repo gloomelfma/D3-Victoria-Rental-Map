{
 "cells": [
  {
   "cell_type": "code",
   "execution_count": 75,
   "metadata": {},
   "outputs": [],
   "source": [
    "import csv\n",
    "import re\n",
    "data = open(\"RentDataV1.csv\")\n",
    "data2D = list(data)\n",
    "for s in data2D:\n",
    "    if bool(re.search('-',s)):\n",
    "        neighbourSuburbs = re.split(',',s)[0]\n",
    "        subRent = re.split(',',s)[1]\n",
    "        suburbs = re.split('-',neighbourSuburbs)\n",
    "        for sub in suburbs:\n",
    "            data2D.append(sub+','+subRent)\n",
    "data2D = [s for s in data2D if not bool(re.search('-',s))]\n",
    "newData = []\n",
    "for D in data2D:\n",
    "    newSub = re.split(',',D)[0]\n",
    "    newVal = re.split(',',D)[1].rstrip()\n",
    "    try:\n",
    "        newVal = int(newVal)\n",
    "    except ValueError:\n",
    "        pass  \n",
    "    newD = []\n",
    "    newD.append(newSub)\n",
    "    newD.append(newVal)\n",
    "    newData.append(newD)\n",
    "data.close()\n",
    "\n",
    "csvFile = open('RentDataV2.csv',\"w\")\n",
    "writer = csv.writer(csvFile)\n",
    "writer.writerows(newData)\n",
    "csvFile.close()"
   ]
  },
  {
   "cell_type": "code",
   "execution_count": null,
   "metadata": {
    "collapsed": true
   },
   "outputs": [],
   "source": []
  }
 ],
 "metadata": {
  "kernelspec": {
   "display_name": "Python 3",
   "language": "python",
   "name": "python3"
  },
  "language_info": {
   "codemirror_mode": {
    "name": "ipython",
    "version": 3
   },
   "file_extension": ".py",
   "mimetype": "text/x-python",
   "name": "python",
   "nbconvert_exporter": "python",
   "pygments_lexer": "ipython3",
   "version": "3.6.1"
  }
 },
 "nbformat": 4,
 "nbformat_minor": 2
}
